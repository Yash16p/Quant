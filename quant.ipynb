{
 "cells": [
  {
   "cell_type": "code",
   "execution_count": 10,
   "metadata": {},
   "outputs": [],
   "source": [
    "import pandas as pd\n",
    "import numpy as np\n",
    "import matplotlib as pyplot\n",
    "%matplotlib inline\n",
    "import glob\n",
    "import os"
   ]
  },
  {
   "cell_type": "code",
   "execution_count": 2,
   "metadata": {},
   "outputs": [],
   "source": [
    "df = pd.read_csv('data/2018-22/btc_17-18_15m.csv')"
   ]
  },
  {
   "cell_type": "code",
   "execution_count": 3,
   "metadata": {},
   "outputs": [
    {
     "data": {
      "text/html": [
       "<div>\n",
       "<style scoped>\n",
       "    .dataframe tbody tr th:only-of-type {\n",
       "        vertical-align: middle;\n",
       "    }\n",
       "\n",
       "    .dataframe tbody tr th {\n",
       "        vertical-align: top;\n",
       "    }\n",
       "\n",
       "    .dataframe thead th {\n",
       "        text-align: right;\n",
       "    }\n",
       "</style>\n",
       "<table border=\"1\" class=\"dataframe\">\n",
       "  <thead>\n",
       "    <tr style=\"text-align: right;\">\n",
       "      <th></th>\n",
       "      <th>datetime</th>\n",
       "      <th>open</th>\n",
       "      <th>high</th>\n",
       "      <th>low</th>\n",
       "      <th>close</th>\n",
       "      <th>volume</th>\n",
       "    </tr>\n",
       "  </thead>\n",
       "  <tbody>\n",
       "    <tr>\n",
       "      <th>0</th>\n",
       "      <td>17-08-2017 09:30</td>\n",
       "      <td>4261.48</td>\n",
       "      <td>4280.56</td>\n",
       "      <td>4261.48</td>\n",
       "      <td>4261.48</td>\n",
       "      <td>2.189061</td>\n",
       "    </tr>\n",
       "    <tr>\n",
       "      <th>1</th>\n",
       "      <td>17-08-2017 09:45</td>\n",
       "      <td>4261.48</td>\n",
       "      <td>4270.41</td>\n",
       "      <td>4261.32</td>\n",
       "      <td>4261.45</td>\n",
       "      <td>9.119865</td>\n",
       "    </tr>\n",
       "    <tr>\n",
       "      <th>2</th>\n",
       "      <td>17-08-2017 10:00</td>\n",
       "      <td>4280.00</td>\n",
       "      <td>4310.07</td>\n",
       "      <td>4267.99</td>\n",
       "      <td>4310.07</td>\n",
       "      <td>21.923552</td>\n",
       "    </tr>\n",
       "    <tr>\n",
       "      <th>3</th>\n",
       "      <td>17-08-2017 10:15</td>\n",
       "      <td>4310.07</td>\n",
       "      <td>4313.62</td>\n",
       "      <td>4291.37</td>\n",
       "      <td>4308.83</td>\n",
       "      <td>13.948531</td>\n",
       "    </tr>\n",
       "    <tr>\n",
       "      <th>4</th>\n",
       "      <td>17-08-2017 10:30</td>\n",
       "      <td>4308.83</td>\n",
       "      <td>4328.69</td>\n",
       "      <td>4304.31</td>\n",
       "      <td>4304.31</td>\n",
       "      <td>5.101153</td>\n",
       "    </tr>\n",
       "  </tbody>\n",
       "</table>\n",
       "</div>"
      ],
      "text/plain": [
       "           datetime     open     high      low    close     volume\n",
       "0  17-08-2017 09:30  4261.48  4280.56  4261.48  4261.48   2.189061\n",
       "1  17-08-2017 09:45  4261.48  4270.41  4261.32  4261.45   9.119865\n",
       "2  17-08-2017 10:00  4280.00  4310.07  4267.99  4310.07  21.923552\n",
       "3  17-08-2017 10:15  4310.07  4313.62  4291.37  4308.83  13.948531\n",
       "4  17-08-2017 10:30  4308.83  4328.69  4304.31  4304.31   5.101153"
      ]
     },
     "execution_count": 3,
     "metadata": {},
     "output_type": "execute_result"
    }
   ],
   "source": [
    "df.head()"
   ]
  },
  {
   "cell_type": "code",
   "execution_count": 5,
   "metadata": {},
   "outputs": [
    {
     "name": "stdout",
     "output_type": "stream",
     "text": [
      "Found 10 files in 2018-22\n",
      "Found 8 files in 2023\n",
      "Merged data saved as D:/Quant/data/merged\\3m_merged.csv\n",
      "Merged data saved as D:/Quant/data/merged\\5m_merged.csv\n",
      "Merged data saved as D:/Quant/data/merged\\15m_merged.csv\n",
      "Merged data saved as D:/Quant/data/merged\\30m_merged.csv\n",
      "Merged data saved as D:/Quant/data/merged\\1h_merged.csv\n",
      "Merged data saved as D:/Quant/data/merged\\2h_merged.csv\n",
      "Merged data saved as D:/Quant/data/merged\\4h_merged.csv\n",
      "Merged data saved as D:/Quant/data/merged\\1d_merged.csv\n",
      "\n",
      "Merging complete! Only 8 final files (one per frequency) are saved in the 'merged' folder.\n"
     ]
    }
   ],
   "source": [
    "import os\n",
    "import glob\n",
    "import pandas as pd\n",
    "\n",
    "base_folder = \"D:/Quant/data/\"\n",
    "merged_folder = os.path.join(base_folder, \"merged\") \n",
    "os.makedirs(merged_folder, exist_ok=True) \n",
    "\n",
    "\n",
    "frequencies = [\"3m\", \"5m\", \"15m\", \"30m\", \"1h\", \"2h\", \"4h\", \"1d\"]\n",
    "years = [\"2018-22\", \"2023\"]\n",
    "\n",
    "# Dictionary to store dataframes for each frequency\n",
    "merged_data = {freq: [] for freq in frequencies}\n",
    "\n",
    "# Loop through each year and collect files\n",
    "for year in years:\n",
    "    folder_path = os.path.join(base_folder, year, \"*.csv\")\n",
    "    files = glob.glob(folder_path)\n",
    "    print(f\"Found {len(files)} files in {year}\")\n",
    "\n",
    "    if not files:\n",
    "        print(f\"No files found in {year}, skipping...\")\n",
    "        continue\n",
    "\n",
    "    # Group files by frequency\n",
    "    for file in files:\n",
    "        filename = os.path.basename(file)\n",
    "        for freq in frequencies:\n",
    "            if f\"_{freq}\" in filename:\n",
    "                if os.stat(file).st_size > 0:  # Ignore empty files\n",
    "                    df = pd.read_csv(file)\n",
    "                    merged_data[freq].append(df)\n",
    "                break  \n",
    "\n",
    "# Merge and save final 8 files\n",
    "for freq, df_list in merged_data.items():\n",
    "    if not df_list:\n",
    "        print(f\"No data available for {freq}, skipping...\")\n",
    "        continue\n",
    "\n",
    "    df_combined = pd.concat(df_list, ignore_index=True)\n",
    "    output_file = os.path.join(merged_folder, f\"{freq}_merged.csv\")\n",
    "    df_combined.to_csv(output_file, index=False)\n",
    "    print(f\"Merged data saved as {output_file}\")\n",
    "\n",
    "print(\"\\nMerging complete! Only 8 final files (one per frequency) are saved in the 'merged' folder.\")\n"
   ]
  },
  {
   "cell_type": "code",
   "execution_count": null,
   "metadata": {},
   "outputs": [],
   "source": []
  },
  {
   "cell_type": "code",
   "execution_count": null,
   "metadata": {},
   "outputs": [],
   "source": []
  },
  {
   "cell_type": "code",
   "execution_count": null,
   "metadata": {},
   "outputs": [],
   "source": []
  },
  {
   "cell_type": "code",
   "execution_count": null,
   "metadata": {},
   "outputs": [],
   "source": []
  },
  {
   "cell_type": "code",
   "execution_count": null,
   "metadata": {},
   "outputs": [],
   "source": []
  },
  {
   "cell_type": "code",
   "execution_count": null,
   "metadata": {},
   "outputs": [],
   "source": []
  },
  {
   "cell_type": "code",
   "execution_count": null,
   "metadata": {},
   "outputs": [],
   "source": []
  },
  {
   "cell_type": "code",
   "execution_count": null,
   "metadata": {},
   "outputs": [],
   "source": []
  },
  {
   "cell_type": "code",
   "execution_count": null,
   "metadata": {},
   "outputs": [],
   "source": []
  },
  {
   "cell_type": "code",
   "execution_count": null,
   "metadata": {},
   "outputs": [],
   "source": []
  },
  {
   "cell_type": "code",
   "execution_count": null,
   "metadata": {},
   "outputs": [],
   "source": []
  },
  {
   "cell_type": "code",
   "execution_count": null,
   "metadata": {},
   "outputs": [],
   "source": []
  },
  {
   "cell_type": "code",
   "execution_count": null,
   "metadata": {},
   "outputs": [],
   "source": []
  },
  {
   "cell_type": "code",
   "execution_count": null,
   "metadata": {},
   "outputs": [],
   "source": []
  },
  {
   "cell_type": "code",
   "execution_count": null,
   "metadata": {},
   "outputs": [],
   "source": []
  },
  {
   "cell_type": "code",
   "execution_count": null,
   "metadata": {},
   "outputs": [],
   "source": []
  },
  {
   "cell_type": "code",
   "execution_count": null,
   "metadata": {},
   "outputs": [],
   "source": []
  }
 ],
 "metadata": {
  "kernelspec": {
   "display_name": "myenv",
   "language": "python",
   "name": "python3"
  },
  "language_info": {
   "codemirror_mode": {
    "name": "ipython",
    "version": 3
   },
   "file_extension": ".py",
   "mimetype": "text/x-python",
   "name": "python",
   "nbconvert_exporter": "python",
   "pygments_lexer": "ipython3",
   "version": "3.11.4"
  }
 },
 "nbformat": 4,
 "nbformat_minor": 2
}
